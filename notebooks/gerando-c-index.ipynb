{
 "cells": [
  {
   "attachments": {},
   "cell_type": "markdown",
   "metadata": {},
   "source": [
    "# Análise Exploratória - Variável TimeFixBug\n",
    "bug-fixing time (dependent): the total amount of time required to fix a bug."
   ]
  },
  {
   "attachments": {},
   "cell_type": "markdown",
   "metadata": {},
   "source": [
    "# Importações"
   ]
  },
  {
   "cell_type": "code",
   "execution_count": 61,
   "metadata": {},
   "outputs": [],
   "source": [
    "#Manipulação de Dados\n",
    "import pandas as pd\n",
    "import numpy as np\n",
    "from datetime import datetime\n",
    "import duckdb\n",
    "\n",
    "import math\n",
    "\n",
    "#Visualização de Dados\n",
    "import matplotlib.pyplot as plt\n",
    "import seaborn as sb\n",
    "#from pandas_profiling import ProfileReport\n"
   ]
  },
  {
   "cell_type": "code",
   "execution_count": 2,
   "metadata": {},
   "outputs": [],
   "source": [
    "# Permitir exibição dos plots no Jupyter Notebook\n",
    "%matplotlib inline"
   ]
  },
  {
   "cell_type": "code",
   "execution_count": 3,
   "metadata": {},
   "outputs": [],
   "source": [
    "# Exibir todas as colunas no head\n",
    "pd.set_option('display.max_columns', None)"
   ]
  },
  {
   "attachments": {},
   "cell_type": "markdown",
   "metadata": {},
   "source": [
    "# Carregamento dos Dados"
   ]
  },
  {
   "cell_type": "code",
   "execution_count": 14,
   "metadata": {},
   "outputs": [],
   "source": [
    "# changelog_file = pd.read_csv(\"../data/raw/new_changelog_file.csv\", sep = \",\")\n",
    "commit_file = pd.read_csv(\"../data/raw/new_commit_file.csv\", sep = \";\")\n",
    "comment_file = pd.read_csv(\"../data/raw/new_comment_file.csv\", sep = \";\")\n",
    "final_list_of_contributors = pd.read_csv(\"../data/raw/final_list_of_contributors_after.csv\", sep = \";\")\n",
    "snapshot_file = pd.read_csv(\"../data/raw/new_snapshot_file.csv\", sep = \";\")\n"
   ]
  },
  {
   "attachments": {},
   "cell_type": "markdown",
   "metadata": {},
   "source": [
    "# Tranformações e Manipulações de Dados"
   ]
  },
  {
   "cell_type": "code",
   "execution_count": 17,
   "metadata": {},
   "outputs": [
    {
     "name": "stdout",
     "output_type": "stream",
     "text": [
      "<class 'pandas.core.frame.DataFrame'>\n",
      "RangeIndex: 10375 entries, 0 to 10374\n",
      "Data columns (total 53 columns):\n",
      " #   Column                     Non-Null Count  Dtype \n",
      "---  ------                     --------------  ----- \n",
      " 0   Project                    10375 non-null  object\n",
      " 1   Owner                      10375 non-null  object\n",
      " 2   Manager                    10375 non-null  object\n",
      " 3   Category                   10375 non-null  object\n",
      " 4   Key                        10375 non-null  object\n",
      " 5   Priority                   10375 non-null  object\n",
      " 6   Status                     10375 non-null  object\n",
      " 7   Reporter                   10375 non-null  object\n",
      " 8   Assignee                   10375 non-null  object\n",
      " 9   Components                 7044 non-null   object\n",
      " 10  SummaryTopWords            10302 non-null  object\n",
      " 11  DescriptionTopWords        10004 non-null  object\n",
      " 12  CommentsTopWords           10359 non-null  object\n",
      " 13  CreationDate               10375 non-null  object\n",
      " 14  ResolutionDate             10375 non-null  object\n",
      " 15  AffectsVersions            6900 non-null   object\n",
      " 16  FixVersions                9873 non-null   object\n",
      " 17  NoComments                 10375 non-null  int64 \n",
      " 18  FirstCommentDate           10359 non-null  object\n",
      " 19  LastCommentDate            10359 non-null  object\n",
      " 20  NoWatchers                 10375 non-null  int64 \n",
      " 21  NoAttachments              10375 non-null  int64 \n",
      " 22  FirstAttachmentDate        10010 non-null  object\n",
      " 23  LastAttachmentDate         10010 non-null  object\n",
      " 24  NoAttachedPatches          10375 non-null  int64 \n",
      " 25  FirstAttachedPatchDate     9365 non-null   object\n",
      " 26  LastAttachedPatchDate      9365 non-null   object\n",
      " 27  InwardIssueLinks           3453 non-null   object\n",
      " 28  OutwardIssueLinks          2670 non-null   object\n",
      " 29  HasMergeCommit             10375 non-null  int64 \n",
      " 30  CommitsMessagesTopWords    8033 non-null   object\n",
      " 31  NoCommits                  10375 non-null  int64 \n",
      " 32  NoAuthors                  10375 non-null  int64 \n",
      " 33  NoCommitters               10375 non-null  int64 \n",
      " 34  AuthorsFirstCommitDate     10375 non-null  object\n",
      " 35  AuthorsLastCommitDate      10375 non-null  object\n",
      " 36  CommittersFirstCommitDate  10375 non-null  object\n",
      " 37  CommittersLastCommitDate   10375 non-null  object\n",
      " 38  NonSrcAddFiles             10375 non-null  int64 \n",
      " 39  NonSrcDelFiles             10375 non-null  int64 \n",
      " 40  NonSrcModFiles             10375 non-null  int64 \n",
      " 41  NonSrcAddLines             10375 non-null  int64 \n",
      " 42  NonSrcDelLines             10375 non-null  int64 \n",
      " 43  SrcAddFiles                10375 non-null  int64 \n",
      " 44  SrcDelFiles                10375 non-null  int64 \n",
      " 45  SrcModFiles                10375 non-null  int64 \n",
      " 46  SrcAddLines                10375 non-null  int64 \n",
      " 47  SrcDelLines                10375 non-null  int64 \n",
      " 48  TestAddFiles               10375 non-null  int64 \n",
      " 49  TestDelFiles               10375 non-null  int64 \n",
      " 50  TestModFiles               10375 non-null  int64 \n",
      " 51  TestAddLines               10375 non-null  int64 \n",
      " 52  TestDelLines               10375 non-null  int64 \n",
      "dtypes: int64(23), object(30)\n",
      "memory usage: 4.2+ MB\n"
     ]
    }
   ],
   "source": [
    "snapshot_file.info()"
   ]
  },
  {
   "cell_type": "code",
   "execution_count": 16,
   "metadata": {},
   "outputs": [
    {
     "data": {
      "text/html": [
       "<div>\n",
       "<style scoped>\n",
       "    .dataframe tbody tr th:only-of-type {\n",
       "        vertical-align: middle;\n",
       "    }\n",
       "\n",
       "    .dataframe tbody tr th {\n",
       "        vertical-align: top;\n",
       "    }\n",
       "\n",
       "    .dataframe thead th {\n",
       "        text-align: right;\n",
       "    }\n",
       "</style>\n",
       "<table border=\"1\" class=\"dataframe\">\n",
       "  <thead>\n",
       "    <tr style=\"text-align: right;\">\n",
       "      <th></th>\n",
       "      <th>Project</th>\n",
       "      <th>Owner</th>\n",
       "      <th>Manager</th>\n",
       "      <th>Category</th>\n",
       "      <th>Key</th>\n",
       "      <th>Priority</th>\n",
       "      <th>Status</th>\n",
       "      <th>Reporter</th>\n",
       "      <th>Assignee</th>\n",
       "      <th>Components</th>\n",
       "      <th>SummaryTopWords</th>\n",
       "      <th>DescriptionTopWords</th>\n",
       "      <th>CommentsTopWords</th>\n",
       "      <th>CreationDate</th>\n",
       "      <th>ResolutionDate</th>\n",
       "      <th>AffectsVersions</th>\n",
       "      <th>FixVersions</th>\n",
       "      <th>NoComments</th>\n",
       "      <th>FirstCommentDate</th>\n",
       "      <th>LastCommentDate</th>\n",
       "      <th>NoWatchers</th>\n",
       "      <th>NoAttachments</th>\n",
       "      <th>FirstAttachmentDate</th>\n",
       "      <th>LastAttachmentDate</th>\n",
       "      <th>NoAttachedPatches</th>\n",
       "      <th>FirstAttachedPatchDate</th>\n",
       "      <th>LastAttachedPatchDate</th>\n",
       "      <th>InwardIssueLinks</th>\n",
       "      <th>OutwardIssueLinks</th>\n",
       "      <th>HasMergeCommit</th>\n",
       "      <th>CommitsMessagesTopWords</th>\n",
       "      <th>NoCommits</th>\n",
       "      <th>NoAuthors</th>\n",
       "      <th>NoCommitters</th>\n",
       "      <th>AuthorsFirstCommitDate</th>\n",
       "      <th>AuthorsLastCommitDate</th>\n",
       "      <th>CommittersFirstCommitDate</th>\n",
       "      <th>CommittersLastCommitDate</th>\n",
       "      <th>NonSrcAddFiles</th>\n",
       "      <th>NonSrcDelFiles</th>\n",
       "      <th>NonSrcModFiles</th>\n",
       "      <th>NonSrcAddLines</th>\n",
       "      <th>NonSrcDelLines</th>\n",
       "      <th>SrcAddFiles</th>\n",
       "      <th>SrcDelFiles</th>\n",
       "      <th>SrcModFiles</th>\n",
       "      <th>SrcAddLines</th>\n",
       "      <th>SrcDelLines</th>\n",
       "      <th>TestAddFiles</th>\n",
       "      <th>TestDelFiles</th>\n",
       "      <th>TestModFiles</th>\n",
       "      <th>TestAddLines</th>\n",
       "      <th>TestDelLines</th>\n",
       "    </tr>\n",
       "  </thead>\n",
       "  <tbody>\n",
       "    <tr>\n",
       "      <th>0</th>\n",
       "      <td>HADOOP</td>\n",
       "      <td>ASF</td>\n",
       "      <td>Apache Hadoop Committee</td>\n",
       "      <td>big-data</td>\n",
       "      <td>HADOOP-4975</td>\n",
       "      <td>Major</td>\n",
       "      <td>Closed</td>\n",
       "      <td>id1296</td>\n",
       "      <td>id1296</td>\n",
       "      <td>NaN</td>\n",
       "      <td>set:1 passed:1</td>\n",
       "      <td>using:3 set:2 key:2 value:2 classes:2 read:2 c...</td>\n",
       "      <td>exec:13 configuration:8 patch:8 parser:6 chang...</td>\n",
       "      <td>2009-01-02 12:13:20+00:00</td>\n",
       "      <td>2009-01-23 22:35:41+00:00</td>\n",
       "      <td>0.19.0</td>\n",
       "      <td>0.21.0</td>\n",
       "      <td>9</td>\n",
       "      <td>2009-01-02 12:15:39.658000+00:00</td>\n",
       "      <td>2009-06-24 07:34:49.613000+00:00</td>\n",
       "      <td>0</td>\n",
       "      <td>3</td>\n",
       "      <td>2009-01-02 12:15:39.626000+00:00</td>\n",
       "      <td>2009-01-13 12:54:01.556000+00:00</td>\n",
       "      <td>3</td>\n",
       "      <td>2009-01-02 12:15:39.626000+00:00</td>\n",
       "      <td>2009-01-13 12:54:01.556000+00:00</td>\n",
       "      <td>NaN</td>\n",
       "      <td>Reference:HADOOP-6103</td>\n",
       "      <td>0</td>\n",
       "      <td>NaN</td>\n",
       "      <td>0</td>\n",
       "      <td>0</td>\n",
       "      <td>0</td>\n",
       "      <td>NaT</td>\n",
       "      <td>NaT</td>\n",
       "      <td>NaT</td>\n",
       "      <td>NaT</td>\n",
       "      <td>0</td>\n",
       "      <td>0</td>\n",
       "      <td>0</td>\n",
       "      <td>0</td>\n",
       "      <td>0</td>\n",
       "      <td>0</td>\n",
       "      <td>0</td>\n",
       "      <td>0</td>\n",
       "      <td>0</td>\n",
       "      <td>0</td>\n",
       "      <td>0</td>\n",
       "      <td>0</td>\n",
       "      <td>0</td>\n",
       "      <td>0</td>\n",
       "      <td>0</td>\n",
       "    </tr>\n",
       "    <tr>\n",
       "      <th>1</th>\n",
       "      <td>HADOOP</td>\n",
       "      <td>ASF</td>\n",
       "      <td>Apache Hadoop Committee</td>\n",
       "      <td>big-data</td>\n",
       "      <td>HADOOP-4977</td>\n",
       "      <td>Blocker</td>\n",
       "      <td>Closed</td>\n",
       "      <td>id8</td>\n",
       "      <td>id196</td>\n",
       "      <td>NaN</td>\n",
       "      <td>deadlock:1</td>\n",
       "      <td>java:32 apache:17 jetty:15 lock:11 handle:10 s...</td>\n",
       "      <td>patch:19 calls:17 exec:13 call:10 one:7 schedu...</td>\n",
       "      <td>2009-01-02 23:18:35+00:00</td>\n",
       "      <td>2009-01-15 02:58:26+00:00</td>\n",
       "      <td>0.19.0</td>\n",
       "      <td>0.20.0</td>\n",
       "      <td>13</td>\n",
       "      <td>2009-01-02 23:23:59.664000+00:00</td>\n",
       "      <td>2009-01-15 02:58:26.681000+00:00</td>\n",
       "      <td>0</td>\n",
       "      <td>6</td>\n",
       "      <td>2009-01-02 23:23:59.629000+00:00</td>\n",
       "      <td>2009-01-15 01:49:11.906000+00:00</td>\n",
       "      <td>5</td>\n",
       "      <td>2009-01-09 08:39:18.444000+00:00</td>\n",
       "      <td>2009-01-15 01:49:11.906000+00:00</td>\n",
       "      <td>NaN</td>\n",
       "      <td>NaN</td>\n",
       "      <td>0</td>\n",
       "      <td>NaN</td>\n",
       "      <td>0</td>\n",
       "      <td>0</td>\n",
       "      <td>0</td>\n",
       "      <td>NaT</td>\n",
       "      <td>NaT</td>\n",
       "      <td>NaT</td>\n",
       "      <td>NaT</td>\n",
       "      <td>0</td>\n",
       "      <td>0</td>\n",
       "      <td>0</td>\n",
       "      <td>0</td>\n",
       "      <td>0</td>\n",
       "      <td>0</td>\n",
       "      <td>0</td>\n",
       "      <td>0</td>\n",
       "      <td>0</td>\n",
       "      <td>0</td>\n",
       "      <td>0</td>\n",
       "      <td>0</td>\n",
       "      <td>0</td>\n",
       "      <td>0</td>\n",
       "      <td>0</td>\n",
       "    </tr>\n",
       "    <tr>\n",
       "      <th>2</th>\n",
       "      <td>HADOOP</td>\n",
       "      <td>ASF</td>\n",
       "      <td>Apache Hadoop Committee</td>\n",
       "      <td>big-data</td>\n",
       "      <td>HADOOP-4979</td>\n",
       "      <td>Major</td>\n",
       "      <td>Closed</td>\n",
       "      <td>id196</td>\n",
       "      <td>id196</td>\n",
       "      <td>NaN</td>\n",
       "      <td>capacity:1 scheduler:1 always:1 return:1 task:...</td>\n",
       "      <td>job:5 task:4 scheduler:3 high:3 mem:3 reduce:3...</td>\n",
       "      <td>exec:13 patch:12 test:4 fix:3 first:3 job:3 tr...</td>\n",
       "      <td>2009-01-05 04:25:51+00:00</td>\n",
       "      <td>2009-01-05 11:40:13+00:00</td>\n",
       "      <td>NaN</td>\n",
       "      <td>0.20.0</td>\n",
       "      <td>7</td>\n",
       "      <td>2009-01-05 05:44:38.732000+00:00</td>\n",
       "      <td>2009-01-06 19:18:24.056000+00:00</td>\n",
       "      <td>0</td>\n",
       "      <td>3</td>\n",
       "      <td>2009-01-05 05:44:38.674000+00:00</td>\n",
       "      <td>2009-01-05 11:29:32.125000+00:00</td>\n",
       "      <td>3</td>\n",
       "      <td>2009-01-05 05:44:38.674000+00:00</td>\n",
       "      <td>2009-01-05 11:29:32.125000+00:00</td>\n",
       "      <td>NaN</td>\n",
       "      <td>NaN</td>\n",
       "      <td>0</td>\n",
       "      <td>NaN</td>\n",
       "      <td>0</td>\n",
       "      <td>0</td>\n",
       "      <td>0</td>\n",
       "      <td>NaT</td>\n",
       "      <td>NaT</td>\n",
       "      <td>NaT</td>\n",
       "      <td>NaT</td>\n",
       "      <td>0</td>\n",
       "      <td>0</td>\n",
       "      <td>0</td>\n",
       "      <td>0</td>\n",
       "      <td>0</td>\n",
       "      <td>0</td>\n",
       "      <td>0</td>\n",
       "      <td>0</td>\n",
       "      <td>0</td>\n",
       "      <td>0</td>\n",
       "      <td>0</td>\n",
       "      <td>0</td>\n",
       "      <td>0</td>\n",
       "      <td>0</td>\n",
       "      <td>0</td>\n",
       "    </tr>\n",
       "    <tr>\n",
       "      <th>3</th>\n",
       "      <td>HADOOP</td>\n",
       "      <td>ASF</td>\n",
       "      <td>Apache Hadoop Committee</td>\n",
       "      <td>big-data</td>\n",
       "      <td>HADOOP-4982</td>\n",
       "      <td>Major</td>\n",
       "      <td>Closed</td>\n",
       "      <td>id1189</td>\n",
       "      <td>id1189</td>\n",
       "      <td>test</td>\n",
       "      <td>run:1 eclipse:1</td>\n",
       "      <td>falls:1 infinite:1 loop:1 run:1 eclipse:1 uses...</td>\n",
       "      <td>exec:13 patch:7 fix:2 applied:2 author:2 tests...</td>\n",
       "      <td>2009-01-05 22:03:11+00:00</td>\n",
       "      <td>2009-01-09 00:59:09+00:00</td>\n",
       "      <td>0.18.0</td>\n",
       "      <td>0.19.1</td>\n",
       "      <td>5</td>\n",
       "      <td>2009-01-05 22:31:12.439000+00:00</td>\n",
       "      <td>2009-01-09 00:59:09.789000+00:00</td>\n",
       "      <td>0</td>\n",
       "      <td>2</td>\n",
       "      <td>2009-01-05 22:31:12.393000+00:00</td>\n",
       "      <td>2009-01-09 00:58:02.517000+00:00</td>\n",
       "      <td>2</td>\n",
       "      <td>2009-01-05 22:31:12.393000+00:00</td>\n",
       "      <td>2009-01-09 00:58:02.517000+00:00</td>\n",
       "      <td>NaN</td>\n",
       "      <td>NaN</td>\n",
       "      <td>0</td>\n",
       "      <td>NaN</td>\n",
       "      <td>0</td>\n",
       "      <td>0</td>\n",
       "      <td>0</td>\n",
       "      <td>NaT</td>\n",
       "      <td>NaT</td>\n",
       "      <td>NaT</td>\n",
       "      <td>NaT</td>\n",
       "      <td>0</td>\n",
       "      <td>0</td>\n",
       "      <td>0</td>\n",
       "      <td>0</td>\n",
       "      <td>0</td>\n",
       "      <td>0</td>\n",
       "      <td>0</td>\n",
       "      <td>0</td>\n",
       "      <td>0</td>\n",
       "      <td>0</td>\n",
       "      <td>0</td>\n",
       "      <td>0</td>\n",
       "      <td>0</td>\n",
       "      <td>0</td>\n",
       "      <td>0</td>\n",
       "    </tr>\n",
       "    <tr>\n",
       "      <th>4</th>\n",
       "      <td>HADOOP</td>\n",
       "      <td>ASF</td>\n",
       "      <td>Apache Hadoop Committee</td>\n",
       "      <td>big-data</td>\n",
       "      <td>HADOOP-4983</td>\n",
       "      <td>Critical</td>\n",
       "      <td>Closed</td>\n",
       "      <td>id262</td>\n",
       "      <td>id980</td>\n",
       "      <td>NaN</td>\n",
       "      <td>job:1 counters:1 sometimes:1 go:1 tasks:1 run:...</td>\n",
       "      <td>seem:2 tasks:1 run:1 counters:1 back:1 move:1 ...</td>\n",
       "      <td>exec:17 patch:11 counters:4 tests:4 status:2 u...</td>\n",
       "      <td>2009-01-06 00:36:19+00:00</td>\n",
       "      <td>2009-01-21 06:55:01+00:00</td>\n",
       "      <td>0.19.0</td>\n",
       "      <td>0.19.1 0.18.3</td>\n",
       "      <td>4</td>\n",
       "      <td>2009-01-07 06:19:21.106000+00:00</td>\n",
       "      <td>2009-01-21 06:55:01.026000+00:00</td>\n",
       "      <td>0</td>\n",
       "      <td>1</td>\n",
       "      <td>2009-01-15 08:57:12.745000+00:00</td>\n",
       "      <td>2009-01-15 08:57:12.745000+00:00</td>\n",
       "      <td>1</td>\n",
       "      <td>2009-01-15 08:57:12.745000+00:00</td>\n",
       "      <td>2009-01-15 08:57:12.745000+00:00</td>\n",
       "      <td>NaN</td>\n",
       "      <td>NaN</td>\n",
       "      <td>0</td>\n",
       "      <td>NaN</td>\n",
       "      <td>0</td>\n",
       "      <td>0</td>\n",
       "      <td>0</td>\n",
       "      <td>NaT</td>\n",
       "      <td>NaT</td>\n",
       "      <td>NaT</td>\n",
       "      <td>NaT</td>\n",
       "      <td>0</td>\n",
       "      <td>0</td>\n",
       "      <td>0</td>\n",
       "      <td>0</td>\n",
       "      <td>0</td>\n",
       "      <td>0</td>\n",
       "      <td>0</td>\n",
       "      <td>0</td>\n",
       "      <td>0</td>\n",
       "      <td>0</td>\n",
       "      <td>0</td>\n",
       "      <td>0</td>\n",
       "      <td>0</td>\n",
       "      <td>0</td>\n",
       "      <td>0</td>\n",
       "    </tr>\n",
       "  </tbody>\n",
       "</table>\n",
       "</div>"
      ],
      "text/plain": [
       "  Project Owner                  Manager  Category          Key  Priority  \\\n",
       "0  HADOOP   ASF  Apache Hadoop Committee  big-data  HADOOP-4975     Major   \n",
       "1  HADOOP   ASF  Apache Hadoop Committee  big-data  HADOOP-4977   Blocker   \n",
       "2  HADOOP   ASF  Apache Hadoop Committee  big-data  HADOOP-4979     Major   \n",
       "3  HADOOP   ASF  Apache Hadoop Committee  big-data  HADOOP-4982     Major   \n",
       "4  HADOOP   ASF  Apache Hadoop Committee  big-data  HADOOP-4983  Critical   \n",
       "\n",
       "   Status Reporter Assignee Components  \\\n",
       "0  Closed   id1296   id1296        NaN   \n",
       "1  Closed      id8    id196        NaN   \n",
       "2  Closed    id196    id196        NaN   \n",
       "3  Closed   id1189   id1189       test   \n",
       "4  Closed    id262    id980        NaN   \n",
       "\n",
       "                                     SummaryTopWords  \\\n",
       "0                                     set:1 passed:1   \n",
       "1                                         deadlock:1   \n",
       "2  capacity:1 scheduler:1 always:1 return:1 task:...   \n",
       "3                                    run:1 eclipse:1   \n",
       "4  job:1 counters:1 sometimes:1 go:1 tasks:1 run:...   \n",
       "\n",
       "                                 DescriptionTopWords  \\\n",
       "0  using:3 set:2 key:2 value:2 classes:2 read:2 c...   \n",
       "1  java:32 apache:17 jetty:15 lock:11 handle:10 s...   \n",
       "2  job:5 task:4 scheduler:3 high:3 mem:3 reduce:3...   \n",
       "3  falls:1 infinite:1 loop:1 run:1 eclipse:1 uses...   \n",
       "4  seem:2 tasks:1 run:1 counters:1 back:1 move:1 ...   \n",
       "\n",
       "                                    CommentsTopWords  \\\n",
       "0  exec:13 configuration:8 patch:8 parser:6 chang...   \n",
       "1  patch:19 calls:17 exec:13 call:10 one:7 schedu...   \n",
       "2  exec:13 patch:12 test:4 fix:3 first:3 job:3 tr...   \n",
       "3  exec:13 patch:7 fix:2 applied:2 author:2 tests...   \n",
       "4  exec:17 patch:11 counters:4 tests:4 status:2 u...   \n",
       "\n",
       "                CreationDate             ResolutionDate AffectsVersions  \\\n",
       "0  2009-01-02 12:13:20+00:00  2009-01-23 22:35:41+00:00          0.19.0   \n",
       "1  2009-01-02 23:18:35+00:00  2009-01-15 02:58:26+00:00          0.19.0   \n",
       "2  2009-01-05 04:25:51+00:00  2009-01-05 11:40:13+00:00             NaN   \n",
       "3  2009-01-05 22:03:11+00:00  2009-01-09 00:59:09+00:00          0.18.0   \n",
       "4  2009-01-06 00:36:19+00:00  2009-01-21 06:55:01+00:00          0.19.0   \n",
       "\n",
       "     FixVersions  NoComments                  FirstCommentDate  \\\n",
       "0         0.21.0           9  2009-01-02 12:15:39.658000+00:00   \n",
       "1         0.20.0          13  2009-01-02 23:23:59.664000+00:00   \n",
       "2         0.20.0           7  2009-01-05 05:44:38.732000+00:00   \n",
       "3         0.19.1           5  2009-01-05 22:31:12.439000+00:00   \n",
       "4  0.19.1 0.18.3           4  2009-01-07 06:19:21.106000+00:00   \n",
       "\n",
       "                    LastCommentDate  NoWatchers  NoAttachments  \\\n",
       "0  2009-06-24 07:34:49.613000+00:00           0              3   \n",
       "1  2009-01-15 02:58:26.681000+00:00           0              6   \n",
       "2  2009-01-06 19:18:24.056000+00:00           0              3   \n",
       "3  2009-01-09 00:59:09.789000+00:00           0              2   \n",
       "4  2009-01-21 06:55:01.026000+00:00           0              1   \n",
       "\n",
       "                FirstAttachmentDate                LastAttachmentDate  \\\n",
       "0  2009-01-02 12:15:39.626000+00:00  2009-01-13 12:54:01.556000+00:00   \n",
       "1  2009-01-02 23:23:59.629000+00:00  2009-01-15 01:49:11.906000+00:00   \n",
       "2  2009-01-05 05:44:38.674000+00:00  2009-01-05 11:29:32.125000+00:00   \n",
       "3  2009-01-05 22:31:12.393000+00:00  2009-01-09 00:58:02.517000+00:00   \n",
       "4  2009-01-15 08:57:12.745000+00:00  2009-01-15 08:57:12.745000+00:00   \n",
       "\n",
       "   NoAttachedPatches            FirstAttachedPatchDate  \\\n",
       "0                  3  2009-01-02 12:15:39.626000+00:00   \n",
       "1                  5  2009-01-09 08:39:18.444000+00:00   \n",
       "2                  3  2009-01-05 05:44:38.674000+00:00   \n",
       "3                  2  2009-01-05 22:31:12.393000+00:00   \n",
       "4                  1  2009-01-15 08:57:12.745000+00:00   \n",
       "\n",
       "              LastAttachedPatchDate InwardIssueLinks      OutwardIssueLinks  \\\n",
       "0  2009-01-13 12:54:01.556000+00:00              NaN  Reference:HADOOP-6103   \n",
       "1  2009-01-15 01:49:11.906000+00:00              NaN                    NaN   \n",
       "2  2009-01-05 11:29:32.125000+00:00              NaN                    NaN   \n",
       "3  2009-01-09 00:58:02.517000+00:00              NaN                    NaN   \n",
       "4  2009-01-15 08:57:12.745000+00:00              NaN                    NaN   \n",
       "\n",
       "   HasMergeCommit CommitsMessagesTopWords  NoCommits  NoAuthors  NoCommitters  \\\n",
       "0               0                     NaN          0          0             0   \n",
       "1               0                     NaN          0          0             0   \n",
       "2               0                     NaN          0          0             0   \n",
       "3               0                     NaN          0          0             0   \n",
       "4               0                     NaN          0          0             0   \n",
       "\n",
       "  AuthorsFirstCommitDate AuthorsLastCommitDate CommittersFirstCommitDate  \\\n",
       "0                    NaT                   NaT                       NaT   \n",
       "1                    NaT                   NaT                       NaT   \n",
       "2                    NaT                   NaT                       NaT   \n",
       "3                    NaT                   NaT                       NaT   \n",
       "4                    NaT                   NaT                       NaT   \n",
       "\n",
       "  CommittersLastCommitDate  NonSrcAddFiles  NonSrcDelFiles  NonSrcModFiles  \\\n",
       "0                      NaT               0               0               0   \n",
       "1                      NaT               0               0               0   \n",
       "2                      NaT               0               0               0   \n",
       "3                      NaT               0               0               0   \n",
       "4                      NaT               0               0               0   \n",
       "\n",
       "   NonSrcAddLines  NonSrcDelLines  SrcAddFiles  SrcDelFiles  SrcModFiles  \\\n",
       "0               0               0            0            0            0   \n",
       "1               0               0            0            0            0   \n",
       "2               0               0            0            0            0   \n",
       "3               0               0            0            0            0   \n",
       "4               0               0            0            0            0   \n",
       "\n",
       "   SrcAddLines  SrcDelLines  TestAddFiles  TestDelFiles  TestModFiles  \\\n",
       "0            0            0             0             0             0   \n",
       "1            0            0             0             0             0   \n",
       "2            0            0             0             0             0   \n",
       "3            0            0             0             0             0   \n",
       "4            0            0             0             0             0   \n",
       "\n",
       "   TestAddLines  TestDelLines  \n",
       "0             0             0  \n",
       "1             0             0  \n",
       "2             0             0  \n",
       "3             0             0  \n",
       "4             0             0  "
      ]
     },
     "execution_count": 16,
     "metadata": {},
     "output_type": "execute_result"
    }
   ],
   "source": [
    "snapshot_file.head(5)"
   ]
  },
  {
   "attachments": {},
   "cell_type": "markdown",
   "metadata": {},
   "source": [
    "x : Variável que não pode ser utilizada\n",
    "\n",
    "? : Dúvidas sobre a utilidade da variável\n",
    "\n",
    "V : Variável que pode ser utilizada\n",
    "\n",
    "  : Indiferente\n",
    "\n",
    "### Variáveis\n",
    "\n",
    "V - Variável Project: Possui uma distribuição quase que homogenea entre as classes que o compõe, não possui nenhuma classe com frequência muito acima ou muito abaixo das demais. Boa parte dos registros envolvem o projeto HDFS.\n",
    "\n",
    "x - Variáveis Owner, Manager e Category: são preenchidas por um único valor, não fazendo sentido analisar / utilizar elas.\n",
    "\n",
    "x - Variável Key: Todos os registros possuem um key distinta e única. \n",
    "\n",
    "V - Variável Prority: A classe mais frequente/presente é a Major. A menor de todas é a Trivial. Existe uma distribuição mais homogênea entre as classes Minor, Blocker e Critical.\n",
    "\n",
    "V - Variável Status: Possui apenas duas classes, distribuidos de forma mais homogênea, sendo mais frequente a classe Closed.\n",
    "\n",
    "V - Variável Reporter: Possui uma alta quantidade de classes, aparentemente tendo uma distribuição pouso desbalanceada entre as classes. A classe mais presente é o id113.\n",
    "\n",
    "? - Variável Assignee: Possui uma alta quantidade de classes, aparentemente tendo uma distribuição pouso desbalanceada entre as classes. No entanto, existe um valor -1, que chama atenção, sendo a mais frequente, inclusive.\n",
    "\n",
    "? - Variável Components: Possui várias classes, tendo maior presença da classe test. Tem 30% dos dados como NaN.\n",
    "\n",
    "V - Variável SummaryTopWords: Possui várias classes. Pouco valor nulo.\n",
    "\n",
    "V - Variável DescriptionTopWords: Possui várias classes. Pouco valor nulo.\n",
    "\n",
    "V - Variável CommentsTopWords: Possui várias classes. Pouco valor nulo.\n",
    "\n",
    "V - Variável CreationDate: Variável temporal, nenhum valor nulo.\n",
    "\n",
    "V - Variável ResolutionDate: Variável temporal, nenhum valor nulo.\n",
    "\n",
    "x - Variável AffectsVersions: Variável categórica, como ela informa uma versão que foi afetada pela atualização, talvez não seja útil. Possui muitas variáveis nulas.\n",
    "\n",
    "x - Variável FixVersions: Variável categórica, como ela informa uma versão que foi afetada pela atualização, talvez não seja útil.\n",
    "\n",
    "V - Variável NoComments: Variável numérica, sem dados nulos. Média 15.\n",
    "\n",
    "V - Variável FirstCommentDate: Variável temporal, nenhum valor nulo.\n",
    "\n",
    "V - Variável LastCommentDate: Variável temporal, nenhum valor nulo.\n",
    "\n",
    "x - Variável NoWatchers: Preenchido por um único valor. \n",
    "\n",
    "V - NoAttachments: Variável numérica, sem dados nulos. Média: 2.65.\n",
    "\n",
    "V - Variável FirstAttachmentDate: Variável temporal, poucos dados nulos. (Os nulos provavelmente os registros que não possuem Attachments, ou seja, =0)\n",
    "\n",
    "V - Variável LastAttachmentDate: Variável temporal, poucos dados nulos. \n",
    "\n",
    "V - NoAttachedPatches: Variável numérica, sem dados nulos. Média: 2.40.\n",
    "\n",
    "V - Variável FirstAttachedPatchDate: Variável temporal, poucos dados nulos. (Os nulos provavelmente os registros que não possuem AttachedPatches, ou seja, =0)\n",
    "\n",
    "V - Variável LastAttachedPatchDate: Variável temporal, poucos dados nulos. \n",
    "\n",
    "x - Variável InwardIssueLinks: Variável com muitos valores nulos.\n",
    "\n",
    "x - Variável OutwardIssueLinks: Variável com muitos valores nulos.\n",
    "\n",
    "x - Variável HasMergeCommit: Variável praticamente preenchida por um único valor.\n",
    "\n",
    "V - Variável CommitsMessagesTopWords: Possui várias classes. Pouco valor nulo.\n",
    "\n",
    "V - Variável NoCommits: Variável numérica, com nenhum valor NaN. Média: 0.85.\n",
    "\n",
    "V - Variável NoAuthors: Variável categórica (será convertida em numérica), com concentração do valor 1. \n",
    "\n",
    "V - Variável NoCommitters: Variável categórica (será convertida em numérica), com concentração do valor 1. \n",
    "\n",
    "V - Variável AuthorsFirstCommitDate: Variável temporal, nenhum valor nulo.\n",
    "\n",
    "V - Variável AuthorsLastCommitDate: Variável temporal, nenhum valor nulo.\n",
    "\n",
    "V - Variável CommittersFirstCommitDate: Variável temporal, nenhum valor nulo.\n",
    "\n",
    "V - Variável CommittersLastCommitDate: Variável temporal, nenhum valor nulo.\n",
    "\n",
    "V - Variável NonSrcAddFiles: Variável numérica, com nenhum valor NaN. Média: 0.05.\n",
    "\n",
    "V - Variável NonSrcDelFiles: Variável numérica, com nenhum valor NaN. Média: 0.01.\n",
    "\n",
    "V - Variável NonSrcModFiles: Variável numérica, com nenhum valor NaN. Média: 0.88.\n",
    "\n",
    "V - Variável NonSrcAddLines: Variável numérica, com nenhum valor NaN. Média: 30.21.\n",
    "\n",
    "V - Variável NonSrcDelLines: Variável numérica, com nenhum valor NaN. Média: 8.06.\n",
    "\n",
    "V - Variável SrcAddFiles: Variável numérica, com nenhum valor NaN. Média: 0.04.\n",
    "\n",
    "V - Variável SrcDelFiles: Variável numérica, com nenhum valor NaN. Média: 0.01.\n",
    "\n",
    "V - Variável SrcModFiles: Variável numérica, com nenhum valor NaN. Média: 1.40.\n",
    "\n",
    "V - Variável SrcAddLines: Variável numérica, com nenhum valor NaN. Média: 22.63.\n",
    "\n",
    "V - Variável SrcDelLines: Variável numérica, com nenhum valor NaN. Média: 12.35.\n",
    "\n",
    "V - Variável TestAddFiles: Variável numérica, com nenhum valor NaN. Média: 0.05.\n",
    "\n",
    "V - Variável TestDelFiles: Variável numérica, com nenhum valor NaN. Média: 0.02.\n",
    "\n",
    "V - Variável TestModFiles: Variável numérica, com nenhum valor NaN. Média: 0.77.\n",
    "\n",
    "V - Variável TestAddLines: Variável numérica, com nenhum valor NaN. Média: 25.62.\n",
    "\n",
    "V - Variável TestDelLines: Variável numérica, com nenhum valor NaN. Média: 9.21.\n"
   ]
  },
  {
   "attachments": {},
   "cell_type": "markdown",
   "metadata": {},
   "source": [
    "Dúvidas:\n",
    "\n",
    "- Qual a diferença entre Authors e Commiters? Eles representam a mesma coisa?\n"
   ]
  },
  {
   "attachments": {},
   "cell_type": "markdown",
   "metadata": {},
   "source": [
    "### Seleção de Features"
   ]
  },
  {
   "cell_type": "code",
   "execution_count": 18,
   "metadata": {},
   "outputs": [],
   "source": [
    "snapshot_file.drop(columns = [\"Owner\", \"Manager\", \"Category\", \"AffectsVersions\", \"FixVersions\", \"NoWatchers\", \"InwardIssueLinks\", \"OutwardIssueLinks\", \"HasMergeCommit\"], inplace = True)"
   ]
  },
  {
   "attachments": {},
   "cell_type": "markdown",
   "metadata": {},
   "source": [
    "### Trato na Tipagem dos Dados"
   ]
  },
  {
   "cell_type": "code",
   "execution_count": 19,
   "metadata": {},
   "outputs": [],
   "source": [
    "snapshot_file.NoAuthors = snapshot_file.NoAuthors.astype(\"int\")\n",
    "snapshot_file.NoCommitters = snapshot_file.NoCommitters.astype(\"int\")"
   ]
  },
  {
   "attachments": {},
   "cell_type": "markdown",
   "metadata": {},
   "source": [
    "### Engenharia de Features"
   ]
  },
  {
   "attachments": {},
   "cell_type": "markdown",
   "metadata": {},
   "source": [
    "#### TimeFixBug"
   ]
  },
  {
   "cell_type": "code",
   "execution_count": 20,
   "metadata": {},
   "outputs": [],
   "source": [
    "# Criação do TimeFixBug para estimar o tempo de resolução do bug em horas.\n",
    "snapshot_file[\"ResolutionDate\"] = pd.to_datetime(snapshot_file[\"ResolutionDate\"])\n",
    "snapshot_file[\"CreationDate\"] = pd.to_datetime(snapshot_file[\"CreationDate\"])\n",
    "snapshot_file[\"TimeFixBug\"] = ((snapshot_file[\"ResolutionDate\"] - snapshot_file[\"CreationDate\"]).dt.days)"
   ]
  },
  {
   "cell_type": "code",
   "execution_count": 21,
   "metadata": {},
   "outputs": [
    {
     "data": {
      "text/plain": [
       "count    10375.000000\n",
       "mean        86.876337\n",
       "std        266.916606\n",
       "min          0.000000\n",
       "25%          1.000000\n",
       "50%          7.000000\n",
       "75%         39.000000\n",
       "max       2785.000000\n",
       "Name: TimeFixBug, dtype: float64"
      ]
     },
     "execution_count": 21,
     "metadata": {},
     "output_type": "execute_result"
    }
   ],
   "source": [
    "snapshot_file[\"TimeFixBug\"].describe() "
   ]
  },
  {
   "attachments": {},
   "cell_type": "markdown",
   "metadata": {},
   "source": [
    "50% das correções de bug levaram até 168 horas para ser resolvidos, uma estimativa de 7 dias. Enquanto, 75% das correções demandaram até 936 horas para serem resolvidos, cerca de 39 dias. "
   ]
  },
  {
   "attachments": {},
   "cell_type": "markdown",
   "metadata": {},
   "source": [
    "##### Estudando distribuição e verificando outlier"
   ]
  },
  {
   "cell_type": "code",
   "execution_count": 22,
   "metadata": {},
   "outputs": [
    {
     "data": {
      "image/png": "[encoded data removed]",
      "text/plain": [
       "<Figure size 1600x800 with 1 Axes>"
      ]
     },
     "metadata": {},
     "output_type": "display_data"
    }
   ],
   "source": [
    "ax = sb.violinplot(x = 'TimeFixBug', data = snapshot_file)\n",
    "ax.figure.set_size_inches(16, 8)\n",
    "ax.set_xlabel('TimeFixBug (horas)', fontsize=14)\n",
    "plt.title('Gráfico - TimeFixBug em relação a HasMergeCommit', fontsize=18)\n",
    "plt.show()"
   ]
  },
  {
   "cell_type": "code",
   "execution_count": 23,
   "metadata": {},
   "outputs": [
    {
     "data": {
      "image/png": "[encoded data removed]",
      "text/plain": [
       "<Figure size 1600x800 with 1 Axes>"
      ]
     },
     "metadata": {},
     "output_type": "display_data"
    }
   ],
   "source": [
    "ax = sb.boxplot(x = 'TimeFixBug', data = snapshot_file)\n",
    "ax.figure.set_size_inches(16, 8)\n",
    "ax.set_xlabel('TimeFixBug (horas)', fontsize=14)\n",
    "plt.title('Gráfico - TimeFixBug em relação a HasMergeCommit', fontsize=18)\n",
    "plt.show()"
   ]
  },
  {
   "attachments": {},
   "cell_type": "markdown",
   "metadata": {},
   "source": [
    "##### Remoção de Outliers"
   ]
  },
  {
   "attachments": {},
   "cell_type": "markdown",
   "metadata": {},
   "source": [
    "Realizando o cálculo do intervalo interquartil: 936 - 24 = 912\n",
    "Calculando o limite superior: 912 +(1.5 * 936) = 2316\n",
    "Ou seja, tudo que for superior a 2316 é considerado outlier. Isso é equivalente a 97 dias, aproximadamente, de trabalho."
   ]
  },
  {
   "attachments": {},
   "cell_type": "markdown",
   "metadata": {},
   "source": [
    "Realizando o cálculo do intervalo interquartil: 39 - 1 = 38\n",
    "Calculando o limite superior: 38 + (1.5 * 38) = 95\n",
    "Ou seja, tudo que for superior a 95 é considerado outlier, o que representa 95 dias."
   ]
  },
  {
   "cell_type": "code",
   "execution_count": 24,
   "metadata": {},
   "outputs": [],
   "source": [
    "snapshot_file_without_outlier = snapshot_file[snapshot_file.TimeFixBug <= 95] "
   ]
  },
  {
   "attachments": {},
   "cell_type": "markdown",
   "metadata": {},
   "source": [
    "# C - index"
   ]
  },
  {
   "cell_type": "code",
   "execution_count": 29,
   "metadata": {},
   "outputs": [
    {
     "name": "stdout",
     "output_type": "stream",
     "text": [
      "<class 'pandas.core.frame.DataFrame'>\n",
      "RangeIndex: 1779 entries, 0 to 1778\n",
      "Data columns (total 4 columns):\n",
      " #   Column         Non-Null Count  Dtype \n",
      "---  ------         --------------  ----- \n",
      " 0   id             1779 non-null   object\n",
      " 1   name_git       221 non-null    object\n",
      " 2   username_jira  1765 non-null   object\n",
      " 3   name_jira      1766 non-null   object\n",
      "dtypes: object(4)\n",
      "memory usage: 55.7+ KB\n"
     ]
    }
   ],
   "source": [
    "final_list_of_contributors.info()"
   ]
  },
  {
   "cell_type": "code",
   "execution_count": 41,
   "metadata": {},
   "outputs": [
    {
     "name": "stdout",
     "output_type": "stream",
     "text": [
      "<class 'pandas.core.frame.DataFrame'>\n",
      "RangeIndex: 159755 entries, 0 to 159754\n",
      "Data columns (total 7 columns):\n",
      " #   Column        Non-Null Count   Dtype \n",
      "---  ------        --------------   ----- \n",
      " 0   Project       159755 non-null  object\n",
      " 1   Manager       159755 non-null  object\n",
      " 2   Category      159755 non-null  object\n",
      " 3   Key           159755 non-null  object\n",
      " 4   Author        159755 non-null  object\n",
      " 5   CreationDate  159755 non-null  object\n",
      " 6   Content       157979 non-null  object\n",
      "dtypes: object(7)\n",
      "memory usage: 8.5+ MB\n"
     ]
    }
   ],
   "source": [
    "comment_file.info()"
   ]
  },
  {
   "cell_type": "code",
   "execution_count": 42,
   "metadata": {},
   "outputs": [
    {
     "name": "stdout",
     "output_type": "stream",
     "text": [
      "<class 'pandas.core.frame.DataFrame'>\n",
      "RangeIndex: 10375 entries, 0 to 10374\n",
      "Data columns (total 45 columns):\n",
      " #   Column                     Non-Null Count  Dtype              \n",
      "---  ------                     --------------  -----              \n",
      " 0   Project                    10375 non-null  object             \n",
      " 1   Key                        10375 non-null  object             \n",
      " 2   Priority                   10375 non-null  object             \n",
      " 3   Status                     10375 non-null  object             \n",
      " 4   Reporter                   10375 non-null  object             \n",
      " 5   Assignee                   10375 non-null  object             \n",
      " 6   Components                 7044 non-null   object             \n",
      " 7   SummaryTopWords            10302 non-null  object             \n",
      " 8   DescriptionTopWords        10004 non-null  object             \n",
      " 9   CommentsTopWords           10359 non-null  object             \n",
      " 10  CreationDate               10375 non-null  datetime64[ns, UTC]\n",
      " 11  ResolutionDate             10375 non-null  datetime64[ns, UTC]\n",
      " 12  NoComments                 10375 non-null  int64              \n",
      " 13  FirstCommentDate           10359 non-null  object             \n",
      " 14  LastCommentDate            10359 non-null  object             \n",
      " 15  NoAttachments              10375 non-null  int64              \n",
      " 16  FirstAttachmentDate        10010 non-null  object             \n",
      " 17  LastAttachmentDate         10010 non-null  object             \n",
      " 18  NoAttachedPatches          10375 non-null  int64              \n",
      " 19  FirstAttachedPatchDate     9365 non-null   object             \n",
      " 20  LastAttachedPatchDate      9365 non-null   object             \n",
      " 21  CommitsMessagesTopWords    8033 non-null   object             \n",
      " 22  NoCommits                  10375 non-null  int64              \n",
      " 23  NoAuthors                  10375 non-null  int32              \n",
      " 24  NoCommitters               10375 non-null  int32              \n",
      " 25  AuthorsFirstCommitDate     10375 non-null  object             \n",
      " 26  AuthorsLastCommitDate      10375 non-null  object             \n",
      " 27  CommittersFirstCommitDate  10375 non-null  object             \n",
      " 28  CommittersLastCommitDate   10375 non-null  object             \n",
      " 29  NonSrcAddFiles             10375 non-null  int64              \n",
      " 30  NonSrcDelFiles             10375 non-null  int64              \n",
      " 31  NonSrcModFiles             10375 non-null  int64              \n",
      " 32  NonSrcAddLines             10375 non-null  int64              \n",
      " 33  NonSrcDelLines             10375 non-null  int64              \n",
      " 34  SrcAddFiles                10375 non-null  int64              \n",
      " 35  SrcDelFiles                10375 non-null  int64              \n",
      " 36  SrcModFiles                10375 non-null  int64              \n",
      " 37  SrcAddLines                10375 non-null  int64              \n",
      " 38  SrcDelLines                10375 non-null  int64              \n",
      " 39  TestAddFiles               10375 non-null  int64              \n",
      " 40  TestDelFiles               10375 non-null  int64              \n",
      " 41  TestModFiles               10375 non-null  int64              \n",
      " 42  TestAddLines               10375 non-null  int64              \n",
      " 43  TestDelLines               10375 non-null  int64              \n",
      " 44  TimeFixBug                 10375 non-null  int64              \n",
      "dtypes: datetime64[ns, UTC](2), int32(2), int64(20), object(21)\n",
      "memory usage: 3.5+ MB\n"
     ]
    }
   ],
   "source": [
    "snapshot_file.info()"
   ]
  },
  {
   "cell_type": "code",
   "execution_count": 39,
   "metadata": {},
   "outputs": [
    {
     "data": {
      "text/plain": [
       "10359"
      ]
     },
     "execution_count": 39,
     "metadata": {},
     "output_type": "execute_result"
    }
   ],
   "source": [
    "len(comment_file.Key.unique())"
   ]
  },
  {
   "cell_type": "code",
   "execution_count": 44,
   "metadata": {},
   "outputs": [
    {
     "data": {
      "text/plain": [
       "(10375, 45)"
      ]
     },
     "execution_count": 44,
     "metadata": {},
     "output_type": "execute_result"
    }
   ],
   "source": [
    "snapshot_file.shape"
   ]
  },
  {
   "cell_type": "code",
   "execution_count": 45,
   "metadata": {},
   "outputs": [
    {
     "data": {
      "text/plain": [
       "10375"
      ]
     },
     "execution_count": 45,
     "metadata": {},
     "output_type": "execute_result"
    }
   ],
   "source": [
    "len(snapshot_file.Key.unique())"
   ]
  },
  {
   "attachments": {},
   "cell_type": "markdown",
   "metadata": {},
   "source": [
    "Peso de Comentários"
   ]
  },
  {
   "cell_type": "code",
   "execution_count": 97,
   "metadata": {},
   "outputs": [],
   "source": [
    "bug_per_comment = pd.merge(left=snapshot_file,\n",
    "                           right=comment_file,\n",
    "                           how=\"left\",\n",
    "                           on=\"Key\")[[\"Key\", \"Author\", \"CreationDate_y\"]]"
   ]
  },
  {
   "cell_type": "code",
   "execution_count": 98,
   "metadata": {},
   "outputs": [],
   "source": [
    "number_comments_per_author_bug = duckdb.sql(\"\"\"\n",
    "                                        SELECT Key, Author, COUNT(*) AS 'NUMBER_COMMENTS'\n",
    "                                        FROM bug_per_comment\n",
    "                                        GROUP BY Key, Author\n",
    "                                        \"\"\").df()"
   ]
  },
  {
   "cell_type": "code",
   "execution_count": 99,
   "metadata": {},
   "outputs": [],
   "source": [
    "def cal_comments_weight(num_comments):\n",
    "    w_comments = 0\n",
    "    for index_comment in range(1, num_comments+1):\n",
    "        w_comments += 2/math.sqrt(index_comment)\n",
    "    return round(w_comments)\n",
    "\n",
    "number_comments_per_author_bug[\"w_comments\"] = number_comments_per_author_bug.NUMBER_COMMENTS.map(cal_comments_weight)"
   ]
  },
  {
   "attachments": {},
   "cell_type": "markdown",
   "metadata": {},
   "source": [
    "Peso de Commits"
   ]
  },
  {
   "cell_type": "code",
   "execution_count": 100,
   "metadata": {},
   "outputs": [],
   "source": [
    "commits_per_author_bug = pd.merge(left=snapshot_file, right=commit_file, how=\"left\", on=\"Key\")[[\"Key\", \"Committer\"]].dropna()"
   ]
  },
  {
   "cell_type": "code",
   "execution_count": 101,
   "metadata": {},
   "outputs": [],
   "source": [
    "number_commits_per_author_bug = duckdb.sql(\"\"\"\n",
    "                                        SELECT Key, Committer, COUNT(*) AS 'NUMBER_COMMITS'\n",
    "                                        FROM commits_per_author_bug\n",
    "                                        GROUP BY Key, Committer\n",
    "                                        \"\"\").df()"
   ]
  },
  {
   "cell_type": "code",
   "execution_count": 102,
   "metadata": {},
   "outputs": [],
   "source": [
    "def cal_commits_weight(num_commits):\n",
    "    w_commits = 0\n",
    "    for index_commit in range(1, num_commits+1):\n",
    "        w_commits += 5/math.sqrt(index_commit)\n",
    "    return round(w_commits)\n",
    "\n",
    "number_commits_per_author_bug[\"w_commits\"] = number_commits_per_author_bug.NUMBER_COMMITS.map(cal_commits_weight)"
   ]
  },
  {
   "attachments": {},
   "cell_type": "markdown",
   "metadata": {},
   "source": [
    "Fator Tempo"
   ]
  },
  {
   "cell_type": "code",
   "execution_count": 103,
   "metadata": {},
   "outputs": [],
   "source": [
    "time_per_bug = duckdb.sql(\"\"\"\n",
    "                           SELECT \n",
    "                              Key,\n",
    "                              EXTRACT(YEAR FROM ResolutionDate) - 2018 AS DIFF_ANOS\n",
    "                           FROM snapshot_file\n",
    "                        \"\"\").df()"
   ]
  },
  {
   "cell_type": "code",
   "execution_count": 104,
   "metadata": {},
   "outputs": [],
   "source": [
    "def cal_time_weight(DIFF_ANOS):\n",
    "    return 0.95**abs(DIFF_ANOS)\n",
    "\n",
    "time_per_bug[\"w_time\"] = time_per_bug.DIFF_ANOS.map(cal_time_weight)"
   ]
  },
  {
   "attachments": {},
   "cell_type": "markdown",
   "metadata": {},
   "source": [
    "Calculando Score de Contribuição"
   ]
  },
  {
   "cell_type": "code",
   "execution_count": 111,
   "metadata": {},
   "outputs": [],
   "source": [
    "number_commits_per_author_bug = number_commits_per_author_bug.rename(columns={\"Committer\": \"Author\"})"
   ]
  },
  {
   "cell_type": "code",
   "execution_count": 113,
   "metadata": {},
   "outputs": [],
   "source": [
    "authors_bug_score = pd.merge(number_comments_per_author_bug, number_commits_per_author_bug, on=['Key', 'Author'], how='inner')\n"
   ]
  },
  {
   "cell_type": "code",
   "execution_count": 115,
   "metadata": {},
   "outputs": [],
   "source": [
    "authors_bug_score = pd.merge(authors_bug_score, time_per_bug, on=\"Key\", how=\"inner\")"
   ]
  },
  {
   "cell_type": "code",
   "execution_count": 121,
   "metadata": {},
   "outputs": [],
   "source": [
    "authors_bug_score[\"score_c\"] = round(authors_bug_score[\"w_comments\"] + authors_bug_score[\"w_commits\"] * authors_bug_score[\"w_time\"])"
   ]
  },
  {
   "cell_type": "code",
   "execution_count": 122,
   "metadata": {},
   "outputs": [],
   "source": [
    "result = duckdb.sql(\"\"\"\n",
    "    WITH RankedScores AS (\n",
    "        SELECT\n",
    "            Author,\n",
    "            score_c,\n",
    "            ROW_NUMBER() OVER(PARTITION BY Author ORDER BY score_c DESC) AS rank\n",
    "        FROM\n",
    "            authors_bug_score\n",
    "    ),\n",
    "    CIndex AS (\n",
    "        SELECT\n",
    "            Author,\n",
    "            MAX(rank) AS C_index\n",
    "        FROM\n",
    "            RankedScores\n",
    "        WHERE\n",
    "            rank <= score_c\n",
    "        GROUP BY\n",
    "            Author\n",
    "    )\n",
    "    SELECT\n",
    "        abs.*,\n",
    "        ci.C_index\n",
    "    FROM\n",
    "        authors_bug_score abs\n",
    "    LEFT JOIN\n",
    "        CIndex ci\n",
    "    ON\n",
    "        abs.Author = ci.Author\n",
    "\"\"\").df()"
   ]
  },
  {
   "cell_type": "code",
   "execution_count": 124,
   "metadata": {},
   "outputs": [
    {
     "data": {
      "text/plain": [
       "count    7402.000000\n",
       "mean       20.435018\n",
       "std         5.173718\n",
       "min         1.000000\n",
       "25%        18.000000\n",
       "50%        21.000000\n",
       "75%        23.000000\n",
       "max        32.000000\n",
       "Name: C_index, dtype: float64"
      ]
     },
     "execution_count": 124,
     "metadata": {},
     "output_type": "execute_result"
    }
   ],
   "source": [
    "result.C_index.describe()"
   ]
  },
  {
   "attachments": {},
   "cell_type": "markdown",
   "metadata": {},
   "source": [
    "## Montar classificação dos desenvolvedores"
   ]
  },
  {
   "cell_type": "code",
   "execution_count": 127,
   "metadata": {},
   "outputs": [],
   "source": [
    "categoria_engajamento_dev = []\n",
    "\n",
    "committers = result[\"Author\"].values\n",
    "metric_engajament = result[\"C_index\"].values\n",
    "\n",
    "contribution_25 = result.C_index.quantile(0.25)\n",
    "contribution_75 = result.C_index.quantile(0.75)\n",
    "\n",
    "for i in range(0, len(committers)):\n",
    "    if metric_engajament[i] <= contribution_25:\n",
    "        categoria_engajamento_dev.append(\"Pouco Engajado\")\n",
    "    elif (metric_engajament[i] > contribution_25) and (metric_engajament[i] < contribution_75):\n",
    "        categoria_engajamento_dev.append(\"Engajado\")\n",
    "    elif (metric_engajament[i] >= contribution_75):\n",
    "        categoria_engajamento_dev.append(\"Muito Engajado\")\n",
    "\n",
    "zip_iterator = zip(committers, categoria_engajamento_dev)\n",
    "a_dictionary = dict(zip_iterator)\n",
    "result['Engagement'] = result['Author'].map(a_dictionary)"
   ]
  },
  {
   "cell_type": "code",
   "execution_count": 132,
   "metadata": {},
   "outputs": [],
   "source": [
    "result = result[[\"Key\", \"Author\", \"Engagement\"]].drop_duplicates().dropna()"
   ]
  },
  {
   "cell_type": "code",
   "execution_count": 134,
   "metadata": {},
   "outputs": [
    {
     "data": {
      "text/html": [
       "<div>\n",
       "<style scoped>\n",
       "    .dataframe tbody tr th:only-of-type {\n",
       "        vertical-align: middle;\n",
       "    }\n",
       "\n",
       "    .dataframe tbody tr th {\n",
       "        vertical-align: top;\n",
       "    }\n",
       "\n",
       "    .dataframe thead th {\n",
       "        text-align: right;\n",
       "    }\n",
       "</style>\n",
       "<table border=\"1\" class=\"dataframe\">\n",
       "  <thead>\n",
       "    <tr style=\"text-align: right;\">\n",
       "      <th></th>\n",
       "      <th>Key</th>\n",
       "      <th>Author</th>\n",
       "      <th>Engagement</th>\n",
       "    </tr>\n",
       "  </thead>\n",
       "  <tbody>\n",
       "    <tr>\n",
       "      <th>0</th>\n",
       "      <td>YARN-2813</td>\n",
       "      <td>id905</td>\n",
       "      <td>Pouco Engajado</td>\n",
       "    </tr>\n",
       "    <tr>\n",
       "      <th>1</th>\n",
       "      <td>YARN-2815</td>\n",
       "      <td>id1271</td>\n",
       "      <td>Pouco Engajado</td>\n",
       "    </tr>\n",
       "    <tr>\n",
       "      <th>2</th>\n",
       "      <td>YARN-2834</td>\n",
       "      <td>id545</td>\n",
       "      <td>Muito Engajado</td>\n",
       "    </tr>\n",
       "    <tr>\n",
       "      <th>3</th>\n",
       "      <td>YARN-2846</td>\n",
       "      <td>id113</td>\n",
       "      <td>Muito Engajado</td>\n",
       "    </tr>\n",
       "    <tr>\n",
       "      <th>4</th>\n",
       "      <td>YARN-2853</td>\n",
       "      <td>id509</td>\n",
       "      <td>Muito Engajado</td>\n",
       "    </tr>\n",
       "    <tr>\n",
       "      <th>...</th>\n",
       "      <td>...</td>\n",
       "      <td>...</td>\n",
       "      <td>...</td>\n",
       "    </tr>\n",
       "    <tr>\n",
       "      <th>7397</th>\n",
       "      <td>YARN-1388</td>\n",
       "      <td>id884</td>\n",
       "      <td>Pouco Engajado</td>\n",
       "    </tr>\n",
       "    <tr>\n",
       "      <th>7398</th>\n",
       "      <td>YARN-1617</td>\n",
       "      <td>id884</td>\n",
       "      <td>Pouco Engajado</td>\n",
       "    </tr>\n",
       "    <tr>\n",
       "      <th>7399</th>\n",
       "      <td>YARN-1721</td>\n",
       "      <td>id884</td>\n",
       "      <td>Pouco Engajado</td>\n",
       "    </tr>\n",
       "    <tr>\n",
       "      <th>7400</th>\n",
       "      <td>YARN-1986</td>\n",
       "      <td>id884</td>\n",
       "      <td>Pouco Engajado</td>\n",
       "    </tr>\n",
       "    <tr>\n",
       "      <th>7401</th>\n",
       "      <td>YARN-2073</td>\n",
       "      <td>id884</td>\n",
       "      <td>Pouco Engajado</td>\n",
       "    </tr>\n",
       "  </tbody>\n",
       "</table>\n",
       "<p>7402 rows × 3 columns</p>\n",
       "</div>"
      ],
      "text/plain": [
       "            Key  Author      Engagement\n",
       "0     YARN-2813   id905  Pouco Engajado\n",
       "1     YARN-2815  id1271  Pouco Engajado\n",
       "2     YARN-2834   id545  Muito Engajado\n",
       "3     YARN-2846   id113  Muito Engajado\n",
       "4     YARN-2853   id509  Muito Engajado\n",
       "...         ...     ...             ...\n",
       "7397  YARN-1388   id884  Pouco Engajado\n",
       "7398  YARN-1617   id884  Pouco Engajado\n",
       "7399  YARN-1721   id884  Pouco Engajado\n",
       "7400  YARN-1986   id884  Pouco Engajado\n",
       "7401  YARN-2073   id884  Pouco Engajado\n",
       "\n",
       "[7402 rows x 3 columns]"
      ]
     },
     "execution_count": 134,
     "metadata": {},
     "output_type": "execute_result"
    }
   ],
   "source": [
    "result"
   ]
  }
 ],
 "metadata": {
  "interpreter": {
   "hash": "94815215251cf29e79c2901e1638ad5d46228eccfef51218e59ffd856777aa9f"
  },
  "kernelspec": {
   "display_name": "Python 3",
   "language": "python",
   "name": "python3"
  },
  "language_info": {
   "codemirror_mode": {
    "name": "ipython",
    "version": 3
   },
   "file_extension": ".py",
   "mimetype": "text/x-python",
   "name": "python",
   "nbconvert_exporter": "python",
   "pygments_lexer": "ipython3",
   "version": "3.11.9"
  }
 },
 "nbformat": 4,
 "nbformat_minor": 2
}
